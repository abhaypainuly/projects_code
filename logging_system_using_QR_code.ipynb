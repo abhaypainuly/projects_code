{
 "cells": [
  {
   "cell_type": "markdown",
   "metadata": {},
   "source": [
    "# Objective:\n",
    "    To read QR code/barcode and use it for logging in the system."
   ]
  },
  {
   "cell_type": "markdown",
   "metadata": {},
   "source": [
    "# Key Features:\n",
    "    Can detect multiple Barcode/ QR code in the same frame\n",
    "    Capability of Working with webcams\n",
    "    Database interacation for logging IN"
   ]
  },
  {
   "cell_type": "code",
   "execution_count": 1,
   "metadata": {},
   "outputs": [],
   "source": [
    "from  pyzbar import pyzbar\n",
    "import cv2 as cv\n",
    "import mysql.connector"
   ]
  },
  {
   "cell_type": "code",
   "execution_count": 2,
   "metadata": {},
   "outputs": [],
   "source": [
    "class Logging():\n",
    "    '''\n",
    "    To get data from the database\n",
    "    Build to Encapsulate the data\n",
    "    Also compare the decoded text with the database data\n",
    "    '''\n",
    "    def __init__(self, filePath):\n",
    "        self.data = None\n",
    "        \n",
    "        dit = {}\n",
    "        file = open(filePath)\n",
    "        for data in file:\n",
    "            data = data[:-1]\n",
    "            key, value = data.split(':')\n",
    "            dit[key] = value\n",
    "\n",
    "        #Connecting to the database\n",
    "        self.mydb = mysql.connector.connect(host=dit['host'], user=dit['user'], password=dit['password'], database=dit['database'])\n",
    "        \n",
    "        #Deleting the database access details\n",
    "        del dit\n",
    "        \n",
    "    def get_password(self):\n",
    "        mycursor = mydb.cursor()\n",
    "        mycursor.execute('select * from logging;')\n",
    "        self.data = mycursor.fetchall()\n",
    "        self.mydb.close()\n",
    "    \n",
    "    def check_password(self, password):\n",
    "        if self.data == None:\n",
    "            self.get_password()\n",
    "        \n",
    "        if password in self.data:\n",
    "            return True\n",
    "        return False       "
   ]
  },
  {
   "cell_type": "code",
   "execution_count": 3,
   "metadata": {},
   "outputs": [],
   "source": [
    "def decode_image(image):\n",
    "    '''\n",
    "    Finds Barcode/QR code in the image and draws binding boxes around them\n",
    "    And also writes the decoded data in the image\n",
    "    input image should be an array form\n",
    "    '''\n",
    "    #Finding the Barcode/QR code\n",
    "    barcodes = pyzbar.decode(image)\n",
    "    for barcode in barcodes:\n",
    "        #Creating a bounding box around the barcode\n",
    "        x, y, w, h = barcode.rect\n",
    "        cv.rectangle(image, (x, y), (x + w, y + h), (0, 0, 255), 2)\n",
    "\n",
    "        #Adding decoded text to the bounding box\n",
    "        text = barcode.data.decode(\"utf-8\") + ' (' + barcode.type+ ')'\n",
    "        if y==0:\n",
    "            y = y+20\n",
    "        cv.putText(image, text, (x, y-10), cv.FONT_HERSHEY_SIMPLEX, 0.5, (0, 0, 255), 1)\n",
    "        #print(\"[INFO]\\n{} \".format(text))"
   ]
  },
  {
   "cell_type": "code",
   "execution_count": 4,
   "metadata": {},
   "outputs": [],
   "source": [
    "#File contains the database access details\n",
    "filePath = r'C:\\Users\\rspai\\Downloads\\database.txt'\n",
    "log = Logging(filePath)"
   ]
  },
  {
   "cell_type": "code",
   "execution_count": null,
   "metadata": {},
   "outputs": [],
   "source": [
    "#Intinializing the webcam to use\n",
    "cap = cv.VideoCapture(0)\n",
    "\n",
    "#Reading video as a series of images\n",
    "while True:\n",
    "    #Reading images from webcam\n",
    "    _,frame = cap.read()\n",
    "    cv.imshow('webcam', frame)\n",
    "    \n",
    "    #Finding the Barcode/QR code\n",
    "    barcodes = pyzbar.decode(frame)\n",
    "    \n",
    "    #Checking if there is no barcode in the image\n",
    "    if len(barcodes)==0:\n",
    "        continue\n",
    "        \n",
    "    for barcode in barcodes:\n",
    "        #Adding decoded text to the bounding box\n",
    "        decoded = barcode.data.decode(\"utf-8\")\n",
    "        if log.check_password(decoded):\n",
    "            welcome = cv.imread(r'C:\\project\\ng-fundamentals\\src\\assets\\images\\welcome.png')\n",
    "            cv.imshow('welcome', welcome)\n",
    "            cv.waitKey(0)\n",
    "            break"
   ]
  }
 ],
 "metadata": {
  "kernelspec": {
   "display_name": "Python 3",
   "language": "python",
   "name": "python3"
  },
  "language_info": {
   "codemirror_mode": {
    "name": "ipython",
    "version": 3
   },
   "file_extension": ".py",
   "mimetype": "text/x-python",
   "name": "python",
   "nbconvert_exporter": "python",
   "pygments_lexer": "ipython3",
   "version": "3.7.3"
  }
 },
 "nbformat": 4,
 "nbformat_minor": 2
}
